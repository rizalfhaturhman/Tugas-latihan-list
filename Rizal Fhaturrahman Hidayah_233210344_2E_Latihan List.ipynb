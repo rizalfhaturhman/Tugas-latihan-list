{
 "cells": [
  {
   "cell_type": "markdown",
   "metadata": {},
   "source": [
    "# soal 1"
   ]
  },
  {
   "cell_type": "code",
   "execution_count": 33,
   "metadata": {},
   "outputs": [
    {
     "name": "stdout",
     "output_type": "stream",
     "text": [
      "[1, 2, 3, 4, 5, 5, 6, 7, 8, 9, 10] \n",
      "\n"
     ]
    }
   ],
   "source": [
    "bilangan = [1, 2, 3, 4, 5, 6, 7, 8, 9, 10]\n",
    "bilangan.insert(5, 5)\n",
    "print(bilangan,\"\\n\")\n"
   ]
  },
  {
   "cell_type": "markdown",
   "metadata": {},
   "source": [
    "# soal 2"
   ]
  },
  {
   "cell_type": "code",
   "execution_count": 34,
   "metadata": {},
   "outputs": [
    {
     "name": "stdout",
     "output_type": "stream",
     "text": [
      "[1, 2, 3, 5, 6, 7, 8, 9, 10] \n",
      "\n"
     ]
    }
   ],
   "source": [
    "bilangan = [1, 2, 3, 4, 5, 6, 7, 8, 9, 10]\n",
    "bilangan.remove(4)\n",
    "print(bilangan,\"\\n\")\n"
   ]
  },
  {
   "cell_type": "markdown",
   "metadata": {},
   "source": [
    "# soal 3"
   ]
  },
  {
   "cell_type": "code",
   "execution_count": 36,
   "metadata": {},
   "outputs": [
    {
     "name": "stdout",
     "output_type": "stream",
     "text": [
      "[1, 2, 3, 4, 5]\n",
      "[6, 7, 8, 9, 10] \n",
      "\n"
     ]
    }
   ],
   "source": [
    "bilangan = [1, 2, 3, 4, 5, 6, 7, 8, 9, 10]\n",
    "split_index= 5\n",
    "baris_pertama = bilangan[:split_index]\n",
    "baris_kedua = bilangan[split_index:]\n",
    "print(baris_pertama)\n",
    "print(baris_kedua,\"\\n\")\n"
   ]
  },
  {
   "cell_type": "markdown",
   "metadata": {},
   "source": [
    "# soal 4"
   ]
  },
  {
   "cell_type": "code",
   "execution_count": 37,
   "metadata": {},
   "outputs": [
    {
     "name": "stdout",
     "output_type": "stream",
     "text": [
      "[1, 2, 3]\n",
      "[4, 5, 6]\n",
      "[7, 8, 9, 10] \n",
      "\n"
     ]
    }
   ],
   "source": [
    "bilangan = [1, 2, 3, 4, 5, 6, 7, 8, 9, 10]\n",
    "third_index = len(bilangan) // 3\n",
    "second_index = third_index * 2\n",
    "baris_pertama = bilangan[:third_index]\n",
    "baris_kedua = bilangan[third_index : second_index]\n",
    "baris_ketiga = bilangan[second_index:]\n",
    "print(baris_pertama)\n",
    "print(baris_kedua)\n",
    "print(baris_ketiga,\"\\n\")\n"
   ]
  },
  {
   "cell_type": "markdown",
   "metadata": {},
   "source": [
    "# soal 5"
   ]
  },
  {
   "cell_type": "code",
   "execution_count": 38,
   "metadata": {},
   "outputs": [
    {
     "name": "stdout",
     "output_type": "stream",
     "text": [
      "[1, 2, 3, 4, 5, 6, 7, 8, 9, 10] \n",
      "\n"
     ]
    }
   ],
   "source": [
    "baris1 = [1, 2, 3]\n",
    "baris2 = [4, 5, 6]\n",
    "baris3 = [7,8,9,10]\n",
    "gabungan = baris1 + baris2 +baris3\n",
    "print(gabungan,\"\\n\")\n"
   ]
  },
  {
   "cell_type": "markdown",
   "metadata": {},
   "source": [
    "# soal 6"
   ]
  },
  {
   "cell_type": "code",
   "execution_count": 39,
   "metadata": {},
   "outputs": [
    {
     "name": "stdout",
     "output_type": "stream",
     "text": [
      "[1, 4]\n"
     ]
    }
   ],
   "source": [
    "bilangan = [1, 2, 3, 4, 5, 6, 7, 8, 9, 10]\n",
    "panggil = bilangan [0:6:3]\n",
    "print(panggil)"
   ]
  }
 ],
 "metadata": {
  "kernelspec": {
   "display_name": "Python 3",
   "language": "python",
   "name": "python3"
  },
  "language_info": {
   "codemirror_mode": {
    "name": "ipython",
    "version": 3
   },
   "file_extension": ".py",
   "mimetype": "text/x-python",
   "name": "python",
   "nbconvert_exporter": "python",
   "pygments_lexer": "ipython3",
   "version": "3.12.2"
  }
 },
 "nbformat": 4,
 "nbformat_minor": 2
}
